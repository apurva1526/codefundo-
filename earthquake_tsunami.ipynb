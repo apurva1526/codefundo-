{
 "cells": [
  {
   "cell_type": "code",
   "execution_count": 1,
   "metadata": {},
   "outputs": [],
   "source": [
    "import pandas as pd\n",
    "import datetime as dt\n",
    "import os"
   ]
  },
  {
   "cell_type": "code",
   "execution_count": 2,
   "metadata": {},
   "outputs": [],
   "source": [
    "PATH = os.getcwd()\n",
    "df_tsunami = pd.read_csv(os.path.join(PATH, 'Tsunamis'), \";\")\n",
    "df_earthquake = pd.read_csv(os.path.join(PATH, \"database.csv\"))\n",
    "df_tectonicPlates = pd.read_csv(os.path.join(PATH,\"tectonicplates-master/original/PB2002_steps.csv\"))"
   ]
  },
  {
   "cell_type": "code",
   "execution_count": 3,
   "metadata": {},
   "outputs": [
    {
     "data": {
      "text/plain": [
       "Index(['ID', 'YEAR', 'MONTH', 'DAY', 'HOUR', 'MINUTE', 'SECOND',\n",
       "       'EVENT_VALIDITY', 'CAUSE_CODE', 'FOCAL_DEPTH', 'PRIMARY_MAGNITUDE',\n",
       "       'COUNTRY', 'STATE', 'LOCATION_NAME', 'LATITUDE', 'LONGITUDE',\n",
       "       'REGION_CODE', 'MAXIMUM_WATER_HEIGHT', 'ABE', 'IIDA', 'SOLOVIEV',\n",
       "       'WARNING_STATUS', 'DEATHS', 'DEATHS_DESCRIPTION', 'MISSING',\n",
       "       'MISSING_DESCRIPTION', 'INJURIES', 'INJURIES_DESCRIPTION',\n",
       "       'DAMAGE_MILLIONS_DOLLARS', 'DAMAGE_DESCRIPTION', 'HOUSES_DESTROYED',\n",
       "       'HOUSES_DESTROYED_DESCRIPTION', 'HOUSES_DAMAGED',\n",
       "       'HOUSES_DAMAGED_DESCRIPTION', 'TOTAL_DEATHS',\n",
       "       'TOTAL_DEATHS_DESCRIPTION', 'TOTAL_MISSING',\n",
       "       'TOTAL_MISSING_DESCRIPTION', 'TOTAL_INJURIES',\n",
       "       'TOTAL_INJURIES_DESCRIPTION', 'TOTAL_DAMAGE_MILLIONS_DOLLARS',\n",
       "       'TOTAL_DAMAGE_DESCRIPTION', 'TOTAL_HOUSES_DESTROYED',\n",
       "       'TOTAL_HOUSES_DESTROYED_DESCRIPTION', 'TOTAL_HOUSES_DAMAGED',\n",
       "       'TOTAL_HOUSES_DAMAGED_DESCRIPTION'],\n",
       "      dtype='object')"
      ]
     },
     "execution_count": 3,
     "metadata": {},
     "output_type": "execute_result"
    }
   ],
   "source": [
    "df_tsunami.columns"
   ]
  },
  {
   "cell_type": "code",
   "execution_count": 4,
   "metadata": {},
   "outputs": [
    {
     "data": {
      "text/plain": [
       "Index(['Date', 'Time', 'Latitude', 'Longitude', 'Type', 'Depth', 'Depth Error',\n",
       "       'Depth Seismic Stations', 'Magnitude', 'Magnitude Type',\n",
       "       'Magnitude Error', 'Magnitude Seismic Stations', 'Azimuthal Gap',\n",
       "       'Horizontal Distance', 'Horizontal Error', 'Root Mean Square', 'ID',\n",
       "       'Source', 'Location Source', 'Magnitude Source', 'Status'],\n",
       "      dtype='object')"
      ]
     },
     "execution_count": 4,
     "metadata": {},
     "output_type": "execute_result"
    }
   ],
   "source": [
    "df_earthquake.columns"
   ]
  },
  {
   "cell_type": "code",
   "execution_count": 5,
   "metadata": {},
   "outputs": [
    {
     "data": {
      "text/plain": [
       "Index(['SeqNum', 'PlateBoundIdentifer', 'PlateBoundContinuity', 'StartLong',\n",
       "       'StartLat', 'FinalLong', 'FinalLat', 'StepLength(km)', 'AzimuthCenter',\n",
       "       'VelocityLeft', 'VelocityAzimuth', 'VelocityDivergent',\n",
       "       'VelocityRightLateral', 'Elevation', 'SeafloorAge', 'StepClass',\n",
       "       'StepContinuity', 'Orogen'],\n",
       "      dtype='object')"
      ]
     },
     "execution_count": 5,
     "metadata": {},
     "output_type": "execute_result"
    }
   ],
   "source": [
    "df_tectonicPlates.columns"
   ]
  },
  {
   "cell_type": "code",
   "execution_count": 6,
   "metadata": {},
   "outputs": [
    {
     "data": {
      "text/plain": [
       "10"
      ]
     },
     "execution_count": 6,
     "metadata": {},
     "output_type": "execute_result"
    }
   ],
   "source": [
    "filtered_df_tsunami = df_tsunami[df_tsunami.YEAR==2000]\n",
    "filtered_df_tsunami.shape[0]"
   ]
  },
  {
   "cell_type": "code",
   "execution_count": 7,
   "metadata": {},
   "outputs": [],
   "source": [
    "df_earthquake['Date'] = pd.to_datetime(df_earthquake['Date'])\n",
    "filtered_df_earthquake = df_earthquake[df_earthquake['Date'].dt.year == 2000]"
   ]
  },
  {
   "cell_type": "code",
   "execution_count": 8,
   "metadata": {},
   "outputs": [
    {
     "data": {
      "text/plain": [
       "553"
      ]
     },
     "execution_count": 8,
     "metadata": {},
     "output_type": "execute_result"
    }
   ],
   "source": [
    "filtered_df_earthquake.shape[0]"
   ]
  },
  {
   "cell_type": "code",
   "execution_count": 9,
   "metadata": {},
   "outputs": [
    {
     "data": {
      "text/plain": [
       "{0}"
      ]
     },
     "execution_count": 9,
     "metadata": {},
     "output_type": "execute_result"
    }
   ],
   "source": [
    "col1 = filtered_df_earthquake['Latitude']\n",
    "col2 = filtered_df_earthquake['Longitude']\n",
    "d = {'StartLat': col1, 'StartLong': col2}\n",
    "df_tectonicPlates['Output'] = (df_tectonicPlates[['FinalLat', 'FinalLong']] == d).all(axis=1).astype(int)\n",
    "set(df_tectonicPlates['Output'])"
   ]
  },
  {
   "cell_type": "code",
   "execution_count": 10,
   "metadata": {},
   "outputs": [
    {
     "data": {
      "text/plain": [
       "{0}"
      ]
     },
     "execution_count": 10,
     "metadata": {},
     "output_type": "execute_result"
    }
   ],
   "source": [
    "col1 = filtered_df_tsunami.LATITUDE\n",
    "col2 = filtered_df_tsunami.LONGITUDE\n",
    "d = {'StartLat': col1, 'StartLong': col2}\n",
    "df_tectonicPlates['Output'] = (df_tectonicPlates[['StartLat', 'StartLong']] == d).all(axis=1).astype(int)\n",
    "set(df_tectonicPlates['Output'])"
   ]
  },
  {
   "cell_type": "markdown",
   "metadata": {},
   "source": [
    "**WE WERE UNABLE TO FIND ANY INTERSECTION OF THE DATA TO APPLY MACHINE LEARNING MODEL**\n",
    "\n",
    "\n",
    "Our aim was to predict the Latitude and Longitude of Earthquake and Tsunami prone regions by applying deep learning model but we failed in collecting relevant data "
   ]
  }
 ],
 "metadata": {
  "kernelspec": {
   "display_name": "Python 3",
   "language": "python",
   "name": "python3"
  },
  "language_info": {
   "codemirror_mode": {
    "name": "ipython",
    "version": 3
   },
   "file_extension": ".py",
   "mimetype": "text/x-python",
   "name": "python",
   "nbconvert_exporter": "python",
   "pygments_lexer": "ipython3",
   "version": "3.6.5"
  }
 },
 "nbformat": 4,
 "nbformat_minor": 2
}
